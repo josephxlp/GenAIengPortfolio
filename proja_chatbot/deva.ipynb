{
 "cells": [
  {
   "cell_type": "code",
   "execution_count": null,
   "metadata": {},
   "outputs": [],
   "source": [
    "import gradio as gr\n",
    "import ollama\n",
    "\n",
    "# Function to process user queries\n",
    "def solve_math_problem(problem):\n",
    "\tresponse = ollama.chat(model='deepscaler', messages=[{'role': 'user', 'content': problem}])\n",
    "\treturn response['message']\n",
    "\n",
    "# Define Gradio Interface\n",
    "interface = gr.Interface(\n",
    "\tfn = solve_math_problem,\n",
    "\tinputs = gr.Textbox(label=\"Enter a math problem\"),\n",
    "\toutputs = gr.Textbox(label=\"Solution\"),\n",
    "\ttitle = \"AI-Powered Math Solver\",\n",
    "\tdescription = \"Ask any math question, and Deepscaler will provide a step-by-step solution.\"\n",
    ")\n",
    "\n",
    "# Launch the App\n",
    "interface.launch()"
   ]
  },
  {
   "cell_type": "code",
   "execution_count": 1,
   "metadata": {},
   "outputs": [
    {
     "ename": "NameError",
     "evalue": "name 'interface' is not defined",
     "output_type": "error",
     "traceback": [
      "\u001b[1;31m---------------------------------------------------------------------------\u001b[0m",
      "\u001b[1;31mNameError\u001b[0m                                 Traceback (most recent call last)",
      "Cell \u001b[1;32mIn[1], line 1\u001b[0m\n\u001b[1;32m----> 1\u001b[0m \u001b[43minterface\u001b[49m\u001b[38;5;241m.\u001b[39mclose()\n",
      "\u001b[1;31mNameError\u001b[0m: name 'interface' is not defined"
     ]
    }
   ],
   "source": [
    "interface.close()"
   ]
  },
  {
   "cell_type": "code",
   "execution_count": null,
   "metadata": {},
   "outputs": [],
   "source": [
    "from fastapi import FastAPI\n",
    "import ollama\n",
    "\n",
    "app = FastAPI()\n",
    "\n",
    "@app.get(\"/\")\n",
    "def home():\n",
    "\treturn {\"message\": \"Welcome to the DeepScaleR Chatbot API\"}\n",
    "\n",
    "@app.get(\"/chat\")\n",
    "def chat(message: str):\n",
    "\tresponse = ollama.chat(model='deepscaler-chat', messages=[{\"role\": \"user\", \"content\": message}])\n",
    "\treturn {\"response\": response[\"message\"]}\n",
    "\n",
    "# run with uvicorn chatbot_api:app --host 0.0.0.0 --port 8000\n"
   ]
  },
  {
   "cell_type": "code",
   "execution_count": null,
   "metadata": {},
   "outputs": [],
   "source": []
  }
 ],
 "metadata": {
  "kernelspec": {
   "display_name": "llms",
   "language": "python",
   "name": "python3"
  },
  "language_info": {
   "codemirror_mode": {
    "name": "ipython",
    "version": 3
   },
   "file_extension": ".py",
   "mimetype": "text/x-python",
   "name": "python",
   "nbconvert_exporter": "python",
   "pygments_lexer": "ipython3",
   "version": "3.11.10"
  }
 },
 "nbformat": 4,
 "nbformat_minor": 2
}
