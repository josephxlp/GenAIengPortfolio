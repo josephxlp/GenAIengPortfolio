{
 "cells": [
  {
   "cell_type": "code",
   "execution_count": 1,
   "metadata": {},
   "outputs": [
    {
     "name": "stderr",
     "output_type": "stream",
     "text": [
      "2025-02-15 13:52:23,826 - DEBUG - 2421171661.py:12 - This is a debug message\n",
      "2025-02-15 13:52:23,828 - INFO - 2421171661.py:13 - This is an info message\n",
      "2025-02-15 13:52:23,830 - WARNING - 2421171661.py:14 - This is a warning message\n",
      "2025-02-15 13:52:23,832 - ERROR - 2421171661.py:15 - This is an error message\n",
      "2025-02-15 13:52:23,833 - CRITICAL - 2421171661.py:16 - This is a critical message\n"
     ]
    }
   ],
   "source": [
    "from glogger import setup_daily_logger\n",
    "\n",
    "logger = setup_daily_logger()\n",
    "\n",
    "\n",
    "def zero_sum_game():\n",
    "    h = 5+ 'l'\n",
    "    return h \n",
    "\n",
    "\n",
    "\n",
    "logger.debug(\"This is a debug message\")\n",
    "logger.info(\"This is an info message\")\n",
    "logger.warning(\"This is a warning message\")\n",
    "logger.error(\"This is an error message\")\n",
    "logger.critical(\"This is a critical message\")"
   ]
  },
  {
   "cell_type": "code",
   "execution_count": null,
   "metadata": {},
   "outputs": [],
   "source": []
  }
 ],
 "metadata": {
  "kernelspec": {
   "display_name": "llms",
   "language": "python",
   "name": "python3"
  },
  "language_info": {
   "codemirror_mode": {
    "name": "ipython",
    "version": 3
   },
   "file_extension": ".py",
   "mimetype": "text/x-python",
   "name": "python",
   "nbconvert_exporter": "python",
   "pygments_lexer": "ipython3",
   "version": "3.11.10"
  }
 },
 "nbformat": 4,
 "nbformat_minor": 2
}
